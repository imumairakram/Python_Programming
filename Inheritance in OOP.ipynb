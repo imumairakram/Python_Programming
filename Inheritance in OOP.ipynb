{
 "cells": [
  {
   "attachments": {},
   "cell_type": "markdown",
   "id": "0b1407f7",
   "metadata": {},
   "source": [
    "# Pillars Of Object Oriented"
   ]
  },
  {
   "cell_type": "code",
   "execution_count": 3,
   "id": "cfb990f4",
   "metadata": {},
   "outputs": [],
   "source": [
    "# 4 pillars of Oop\n",
    "# 1. Inheritance\n",
    "# 2. Encapsulation\n",
    "# 3. Polymorphism\n",
    "# 4. Abstraction"
   ]
  },
  {
   "cell_type": "code",
   "execution_count": 4,
   "id": "43c3dac0",
   "metadata": {},
   "outputs": [],
   "source": [
    "# In Parent Class Main and Base Class inherit into other classes"
   ]
  },
  {
   "attachments": {},
   "cell_type": "markdown",
   "id": "aff1565d",
   "metadata": {},
   "source": [
    "## Task:"
   ]
  },
  {
   "attachments": {},
   "cell_type": "markdown",
   "id": "04852dc5",
   "metadata": {},
   "source": [
    "## Single Inheritance"
   ]
  },
  {
   "cell_type": "code",
   "execution_count": 24,
   "id": "8874cd94",
   "metadata": {},
   "outputs": [
    {
     "name": "stdout",
     "output_type": "stream",
     "text": [
      "The name of the person is Umair. His age is 30, His gender is Male.\n",
      "The name of the person is Mohsin. His age is 22. His gender is Male. His ID number is 253812. He is currently learning Python.\n"
     ]
    }
   ],
   "source": [
    "class Person:\n",
    "    def __init__(self, name ,age, gender):\n",
    "        self.name = name\n",
    "        self.age = age\n",
    "        self.gender = gender\n",
    "        \n",
    "    def displayinfo(self):\n",
    "        print(f\"The name of the person is {self.name}. His age is {self.age}, His gender is {self.gender}.\")\n",
    "        \n",
    "class Student(Person):\n",
    "    def __init__(self, name, age, gender, id, course):\n",
    "        person.__init__(self, name, age, gender)\n",
    "        self.id = id\n",
    "        self.course = 'Python'\n",
    "#     pass\n",
    "\n",
    "    def displayinfo(self):\n",
    "        print(f\"The name of the person is {self.name}. His age is {self.age}. His gender is {self.gender}. His ID number is {self.id}. He is currently learning {self.course}.\")\n",
    "        \n",
    "Umair = Person(\"Umair\", 30, \"Male\")\n",
    "Umair.displayinfo()\n",
    "\n",
    "Mohsin = Student(\"Mohsin\", 22, \"Male\", 253812, \"Python\")\n",
    "Mohsin.displayinfo()"
   ]
  },
  {
   "attachments": {},
   "cell_type": "markdown",
   "id": "a076c773",
   "metadata": {},
   "source": [
    "## Multiple Inheritance"
   ]
  },
  {
   "cell_type": "code",
   "execution_count": 32,
   "id": "aaae6c08",
   "metadata": {},
   "outputs": [
    {
     "name": "stdout",
     "output_type": "stream",
     "text": [
      "Charging the electric vehicle with 50 kWh battery.\n",
      "Refueling the gasoline vehicle with 40 liters.\n",
      "Toyota Prius is driving in hybrid mode.\n"
     ]
    }
   ],
   "source": [
    "class ElectricVehicle:\n",
    "    def __init__(self, battery_capacity):\n",
    "        self.battery_capacity = battery_capacity  \n",
    "\n",
    "    def charge(self):\n",
    "        print(f\"Charging the electric vehicle with {self.battery_capacity} kWh battery.\")\n",
    "\n",
    "class GasolineVehicle:\n",
    "    def __init__(self, fuel_tank_capacity):\n",
    "        self.fuel_tank_capacity = fuel_tank_capacity\n",
    "\n",
    "    def refuel(self):\n",
    "        print(f\"Refueling the gasoline vehicle with {self.fuel_tank_capacity} liters.\")\n",
    "\n",
    "class HybridVehicle(ElectricVehicle, GasolineVehicle):\n",
    "    def __init__(self, battery_capacity, fuel_tank_capacity, make, model):\n",
    "        ElectricVehicle.__init__(self, battery_capacity)\n",
    "        GasolineVehicle.__init__(self, fuel_tank_capacity)\n",
    "        self.make = make\n",
    "        self.model = model\n",
    "\n",
    "    def drive(self):\n",
    "        print(f\"{self.make} {self.model} is driving in hybrid mode.\")\n",
    "\n",
    "hybrid_car = HybridVehicle(50, 40, \"Toyota\", \"Prius\")\n",
    "\n",
    "hybrid_car.charge()    \n",
    "hybrid_car.refuel()      \n",
    "hybrid_car.drive()        \n"
   ]
  },
  {
   "attachments": {},
   "cell_type": "markdown",
   "id": "8c1b155b",
   "metadata": {},
   "source": [
    "## Multi-level Inheritance"
   ]
  },
  {
   "cell_type": "code",
   "execution_count": 35,
   "id": "8027ae73",
   "metadata": {},
   "outputs": [],
   "source": [
    "# multilevel inheritance\n",
    "# Super class: federal government\n",
    "# Sub class 1: provisional government \n",
    "# Sub class 2: City government"
   ]
  },
  {
   "cell_type": "code",
   "execution_count": 37,
   "id": "cc86d6fc",
   "metadata": {},
   "outputs": [
    {
     "name": "stdout",
     "output_type": "stream",
     "text": [
      "Pakistan federal government is making laws.\n",
      "Sindh provisional government is making laws.\n",
      "Karachi City Government is making laws.\n"
     ]
    }
   ],
   "source": [
    "class FederalGovernment:\n",
    "    def __init__(self, country_name):\n",
    "        self.country_name = country_name\n",
    "\n",
    "    def make_federal_laws(self):\n",
    "        print(f\"{self.country_name} federal government is making laws.\")\n",
    "\n",
    "class ProvisionalGovernment(FederalGovernment):\n",
    "    def __init__(self, country_name, province_name):\n",
    "        super().__init__(country_name)\n",
    "        self.province_name = province_name\n",
    "        \n",
    "    def provisional_laws(self):\n",
    "        print(f\"{self.province_name} provisional government is making laws.\")\n",
    "        \n",
    "class CityGovernment(ProvisionalGovernment):\n",
    "    def __init__(self, country_name, province_name, city_name):\n",
    "        super().__init__(country_name, province_name)\n",
    "        self.city_name = city_name\n",
    "        \n",
    "    def city_laws(self):\n",
    "        print(f\"{self.city_name} City Government is making laws.\")\n",
    "\n",
    "\n",
    "city_gov = CityGovernment(\"Pakistan\", \"Sindh\", \"Karachi\")\n",
    "\n",
    "city_gov.make_federal_laws()   \n",
    "city_gov.provisional_laws()     \n",
    "city_gov.city_laws()             \n"
   ]
  },
  {
   "attachments": {},
   "cell_type": "markdown",
   "id": "124e1231",
   "metadata": {},
   "source": [
    "## Hierarchical Inheritance"
   ]
  },
  {
   "cell_type": "code",
   "execution_count": 42,
   "id": "a616e388",
   "metadata": {},
   "outputs": [
    {
     "name": "stdout",
     "output_type": "stream",
     "text": [
      "Generic Animal is eating.\n",
      "Elephant is eating.\n",
      "Elephant is walking on land.\n",
      "Cow is eating.\n",
      "Cow is walking on land.\n",
      "Meemo says Moo!\n"
     ]
    }
   ],
   "source": [
    "class Animals:\n",
    "    def __init__(self, species):\n",
    "        self.species = species\n",
    "\n",
    "    def eat(self):\n",
    "        return f\"{self.species} is eating.\"\n",
    "\n",
    "class Mammals(Animals):\n",
    "    def __init__(self, species, has_hair):\n",
    "        super().__init__(species)\n",
    "        self.has_hair = has_hair\n",
    "\n",
    "    def walk(self):\n",
    "        return f\"{self.species} is walking on land.\"\n",
    "\n",
    "class Cows(Mammals):\n",
    "    def __init__(self, name):\n",
    "        super().__init__(\"Cow\", True)\n",
    "        self.name = name\n",
    "\n",
    "    def moo(self):\n",
    "        return f\"{self.name} says Moo!\"\n",
    "\n",
    "generic_animal = Animals(\"Generic Animal\")\n",
    "mammal = Mammals(\"Elephant\", True)\n",
    "cow = Cows(\"Meemo\")\n",
    "\n",
    "print(generic_animal.eat())        \n",
    "print(mammal.eat())                 \n",
    "print(mammal.walk())                \n",
    "print(cow.eat())                 \n",
    "print(cow.walk())                  \n",
    "print(cow.moo())                    \n"
   ]
  },
  {
   "attachments": {},
   "cell_type": "markdown",
   "id": "46504fa6",
   "metadata": {},
   "source": [
    "## Hybrid Inheritance"
   ]
  },
  {
   "cell_type": "code",
   "execution_count": 1,
   "id": "e6526b7e",
   "metadata": {},
   "outputs": [
    {
     "data": {
      "text/plain": [
       "'Bark from Pet'"
      ]
     },
     "execution_count": 1,
     "metadata": {},
     "output_type": "execute_result"
    }
   ],
   "source": [
    "class Animal:\n",
    "    def speak(self):\n",
    "        return \"Animal sound\"\n",
    "\n",
    "class Dog(Animal):\n",
    "    def speak(self):\n",
    "        return \"Bark\"\n",
    "\n",
    "class Cat(Animal):\n",
    "    def speak(self):\n",
    "        return \"Meow\"\n",
    "\n",
    "class Pet(Dog, Cat):\n",
    "    def pet_sound(self):\n",
    "        return f\"{self.speak()} from Pet\"\n",
    "\n",
    "my_pet = Pet()\n",
    "\n",
    "my_pet.pet_sound()\n"
   ]
  },
  {
   "cell_type": "code",
   "execution_count": null,
   "id": "09da030c-861f-49fb-80a6-dbc93573ef37",
   "metadata": {},
   "outputs": [],
   "source": []
  }
 ],
 "metadata": {
  "kernelspec": {
   "display_name": "Python 3 (ipykernel)",
   "language": "python",
   "name": "python3"
  },
  "language_info": {
   "codemirror_mode": {
    "name": "ipython",
    "version": 3
   },
   "file_extension": ".py",
   "mimetype": "text/x-python",
   "name": "python",
   "nbconvert_exporter": "python",
   "pygments_lexer": "ipython3",
   "version": "3.11.7"
  }
 },
 "nbformat": 4,
 "nbformat_minor": 5
}
