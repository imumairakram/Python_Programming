{
  "nbformat": 4,
  "nbformat_minor": 0,
  "metadata": {
    "colab": {
      "provenance": []
    },
    "kernelspec": {
      "name": "python3",
      "display_name": "Python 3"
    },
    "language_info": {
      "name": "python"
    }
  },
  "cells": [
    {
      "cell_type": "markdown",
      "source": [
        "# **Exception**\n",
        "\n",
        "An exception is an event that disrupts the normal flow of a program’s execution. When an error occurs, Python generates an exception that can be handled to prevent the program from crashing.\n",
        "\n",
        "\n"
      ],
      "metadata": {
        "id": "_fPUq5b6utko"
      }
    },
    {
      "cell_type": "markdown",
      "source": [
        "\n",
        "# **Common Exceptions in Python**\n",
        "\n",
        "1.   TypeError: Raised when an operation or function is applied to an object of inappropriate type.\n",
        "2.   ValueError: Raised when a function receives an argument of the right type but an inappropriate value.\n",
        "3.  IndexError: Raised when attempting to access an element from a list or tuple with an invalid index.\n",
        "4. KeyError: Raised when attempting to access a dictionary with a key that does not exist.\n",
        "5. ZeroDivisionError: Raised when a division by zero is attempted.\n",
        "6. FileNotFoundError: Raised when trying to open a file that does not exist.\n",
        "\n"
      ],
      "metadata": {
        "id": "fneP6SktuUih"
      }
    },
    {
      "cell_type": "code",
      "execution_count": null,
      "metadata": {
        "colab": {
          "base_uri": "https://localhost:8080/"
        },
        "id": "oKli7Im4tsCJ",
        "outputId": "b01edd69-e407-4d1a-e4dc-7fcf298c0dc4"
      },
      "outputs": [
        {
          "output_type": "stream",
          "name": "stdout",
          "text": [
            "44\n",
            "trying\n",
            "Error Occured\n"
          ]
        }
      ],
      "source": [
        "a = int(input())\n",
        "try:\n",
        "  print(\"trying\")\n",
        "  print(a + \"Hello\")\n",
        "  print(\"executing\")\n",
        "except:\n",
        "  print(\"Error Occured\")"
      ]
    },
    {
      "cell_type": "code",
      "source": [
        "a = int(input())\n",
        "try:\n",
        "  print(\"trying\")\n",
        "  print(a + \"Hello\")\n",
        "  print(\"executing\")\n",
        "except Exception as e:\n",
        "  print(e)\n",
        "  print(\"Error Occured\")"
      ],
      "metadata": {
        "colab": {
          "base_uri": "https://localhost:8080/"
        },
        "id": "OFaXLA0OxibJ",
        "outputId": "4c340838-2c74-44cd-b780-ff35f6dbce8c"
      },
      "execution_count": null,
      "outputs": [
        {
          "output_type": "stream",
          "name": "stdout",
          "text": [
            "44\n",
            "trying\n",
            "unsupported operand type(s) for +: 'int' and 'str'\n",
            "Error Occured\n"
          ]
        }
      ]
    },
    {
      "cell_type": "code",
      "source": [
        "# Attempting to concatenate a string and an integer\n",
        "try:\n",
        "    result = \"The answer is: \" + 42\n",
        "except Exception as e:\n",
        "  print(e)"
      ],
      "metadata": {
        "colab": {
          "base_uri": "https://localhost:8080/"
        },
        "id": "NIs7mPyvv5zJ",
        "outputId": "e85aafa5-1baf-4ab7-f111-18b02646bbcf"
      },
      "execution_count": null,
      "outputs": [
        {
          "output_type": "stream",
          "name": "stdout",
          "text": [
            "can only concatenate str (not \"int\") to str\n"
          ]
        }
      ]
    },
    {
      "cell_type": "code",
      "source": [
        "try:\n",
        "    result = \"The answer is: \" + 42\n",
        "except TypeError as e:\n",
        "    print(f\"TypeError: {e}\")\n"
      ],
      "metadata": {
        "colab": {
          "base_uri": "https://localhost:8080/"
        },
        "id": "MPJIn19TxLog",
        "outputId": "50ba9c46-f0d9-489a-9b61-847e51b03b6a"
      },
      "execution_count": null,
      "outputs": [
        {
          "output_type": "stream",
          "name": "stdout",
          "text": [
            "TypeError: can only concatenate str (not \"int\") to str\n"
          ]
        }
      ]
    },
    {
      "cell_type": "markdown",
      "source": [
        "Final Block\n"
      ],
      "metadata": {
        "id": "3aKkQShzyhLw"
      }
    },
    {
      "cell_type": "code",
      "source": [
        "try:\n",
        "    result = \"The answer is: \" + '42'\n",
        "    print(result)\n",
        "except TypeError as e:\n",
        "    print(f\"TypeError: {e}\")\n",
        "finally:\n",
        "  print(\"Code Executed\")\n",
        "\n",
        "# Hamesha run ho ga final block"
      ],
      "metadata": {
        "colab": {
          "base_uri": "https://localhost:8080/"
        },
        "id": "6ci2Nrr4yUqv",
        "outputId": "0fe3bddb-3020-4677-b29d-fb0b8226f091"
      },
      "execution_count": null,
      "outputs": [
        {
          "output_type": "stream",
          "name": "stdout",
          "text": [
            "The answer is: 42\n",
            "Code Executed\n"
          ]
        }
      ]
    },
    {
      "cell_type": "code",
      "source": [
        "# Converting a string to an integer\n",
        "try:\n",
        "    number = int(\"abc\")\n",
        "except ValueError as e:\n",
        "    print(f\"ValueError: {e}\")"
      ],
      "metadata": {
        "colab": {
          "base_uri": "https://localhost:8080/"
        },
        "id": "HV01E84Ky3QC",
        "outputId": "d2b80545-e1c8-4094-a5f7-8a99cf5192e6"
      },
      "execution_count": null,
      "outputs": [
        {
          "output_type": "stream",
          "name": "stdout",
          "text": [
            "ValueError: invalid literal for int() with base 10: 'abc'\n"
          ]
        }
      ]
    },
    {
      "cell_type": "code",
      "source": [
        "# Accessing an element outside the range of a list\n",
        "try:\n",
        "    number = int(\"abc\")\n",
        "except Exception as e:\n",
        "    print(f\"IndexError: {e}\")\n"
      ],
      "metadata": {
        "id": "m5CvcwYhzwr5"
      },
      "execution_count": null,
      "outputs": []
    },
    {
      "cell_type": "code",
      "source": [
        "# Accessing a non-existent key in a dictionary\n",
        "try:\n",
        "    my_dict = {'name': 'Ayan', 'age': 25}\n",
        "    print(my_dict['name'])\n",
        "    value = my_dict['address']\n",
        "except KeyError as e:\n",
        "    print(f\"KeyError: {e}\")\n"
      ],
      "metadata": {
        "colab": {
          "base_uri": "https://localhost:8080/"
        },
        "id": "7NBX0u25zx84",
        "outputId": "37917f43-0721-4fa9-e174-e3ad40d8f5b4"
      },
      "execution_count": null,
      "outputs": [
        {
          "output_type": "stream",
          "name": "stdout",
          "text": [
            "Ayan\n",
            "KeyError: 'address'\n"
          ]
        }
      ]
    },
    {
      "cell_type": "code",
      "source": [
        "# Trying to use a variable that hasn't been defined\n",
        "try:\n",
        "    print(my_variable)\n",
        "except NameError as e:\n",
        "    print(f\"NameError: {e}\")\n"
      ],
      "metadata": {
        "colab": {
          "base_uri": "https://localhost:8080/"
        },
        "id": "T5WJUrbIzzKR",
        "outputId": "e654209f-188b-41f8-fe2b-92ddc7ae90e6"
      },
      "execution_count": null,
      "outputs": [
        {
          "output_type": "stream",
          "name": "stdout",
          "text": [
            "NameError: name 'my_variable' is not defined\n"
          ]
        }
      ]
    },
    {
      "cell_type": "code",
      "source": [
        "# Else Block\n",
        "try:\n",
        "    result = 10 / 0\n",
        "except ZeroDivisionError:\n",
        "    print(\"Cannot divide by zero!\")\n",
        "else:\n",
        "    print(\"Division successful:\", result)\n"
      ],
      "metadata": {
        "colab": {
          "base_uri": "https://localhost:8080/"
        },
        "id": "9_BnyzGrz0cQ",
        "outputId": "c80f839b-c4f4-4b18-c4e6-187ef8673528"
      },
      "execution_count": null,
      "outputs": [
        {
          "output_type": "stream",
          "name": "stdout",
          "text": [
            "Cannot divide by zero!\n"
          ]
        }
      ]
    },
    {
      "cell_type": "markdown",
      "source": [
        "Scenario 1: User Input Validation\n",
        "Context: You’re developing a program that asks users to input a number and then performs a calculation using that number. (Divide)\n",
        "\n",
        "Scenario: The user might input something that’s not a number, causing a ValueError.\n",
        "\n"
      ],
      "metadata": {
        "id": "HAIbnFfC1tf5"
      }
    },
    {
      "cell_type": "code",
      "source": [
        "try :\n",
        "  a = int(input(\"Enter a number = \"))\n",
        "  b = int(input(\"Enter a number = \"))\n",
        "  result = a / b\n",
        "except ValueError as e :\n",
        "  print(f\"ValueError : {e}\")\n",
        "else:\n",
        "  print(f\"Result is {result}\")"
      ],
      "metadata": {
        "colab": {
          "base_uri": "https://localhost:8080/"
        },
        "id": "HhuM7XHs4OLR",
        "outputId": "cde271ea-0078-4763-8337-e729a1011f57"
      },
      "execution_count": null,
      "outputs": [
        {
          "output_type": "stream",
          "name": "stdout",
          "text": [
            "Enter a number = 10\n",
            "Enter a number = $\n",
            "ValueError : invalid literal for int() with base 10: '$'\n"
          ]
        }
      ]
    },
    {
      "cell_type": "markdown",
      "source": [
        "Scenario 2: String to Float Conversion\n",
        "Context: You’re writing a program that converts a string input to a floating-point number.\n",
        "\n",
        "Scenario: The user might enter a non-numeric string, causing a ValueError.\n",
        "\n"
      ],
      "metadata": {
        "id": "zPxHd1Pj4KpN"
      }
    },
    {
      "cell_type": "code",
      "source": [
        "try:\n",
        "  a = int(input())\n",
        "  a = float(a)\n",
        "except ValueError as e:\n",
        "  print(e)\n",
        "else:\n",
        "  print(a)"
      ],
      "metadata": {
        "colab": {
          "base_uri": "https://localhost:8080/"
        },
        "id": "xEbmfYl51t5v",
        "outputId": "d8ce22e5-901d-4b32-d663-4aa9ab4d0f21"
      },
      "execution_count": null,
      "outputs": [
        {
          "output_type": "stream",
          "name": "stdout",
          "text": [
            "sds\n",
            "invalid literal for int() with base 10: 'sds'\n"
          ]
        }
      ]
    },
    {
      "cell_type": "code",
      "source": [],
      "metadata": {
        "id": "fizmWxlC14zI"
      },
      "execution_count": null,
      "outputs": []
    },
    {
      "cell_type": "markdown",
      "source": [
        "\n",
        "# **Raising User-Defined Exceptions**"
      ],
      "metadata": {
        "id": "nW4A1X5O8C8r"
      }
    },
    {
      "cell_type": "code",
      "source": [
        "def check_age(age):\n",
        "    if age < 18:\n",
        "        raise ValueError(\"Age must be at least 18.\")\n",
        "    else:\n",
        "        print(\"Age is acceptable.\")\n",
        "\n",
        "try:\n",
        "    check_age(20)\n",
        "except ValueError as e:\n",
        "    print(f\"Error: {e}\")\n"
      ],
      "metadata": {
        "colab": {
          "base_uri": "https://localhost:8080/"
        },
        "id": "sC3D_sBh8D6a",
        "outputId": "b614c240-ed9e-48ae-c896-e8b52e55b0fa"
      },
      "execution_count": null,
      "outputs": [
        {
          "output_type": "stream",
          "name": "stdout",
          "text": [
            "Age is acceptable.\n"
          ]
        }
      ]
    },
    {
      "cell_type": "code",
      "source": [
        "def divide(a, b):\n",
        "    if b == 0:\n",
        "        raise ZeroDivisionError(\"Division by zero is not allowed.\")\n",
        "    return a / b\n",
        "\n",
        "try:\n",
        "    result = divide(10, 0)\n",
        "except ZeroDivisionError as e:\n",
        "    print(f\"Caught an exception: {e}\")\n"
      ],
      "metadata": {
        "id": "N2RG6Cek8D9T",
        "colab": {
          "base_uri": "https://localhost:8080/"
        },
        "outputId": "fc2b2b15-46c1-45d0-943b-6e2b366ad0d4"
      },
      "execution_count": 1,
      "outputs": [
        {
          "output_type": "stream",
          "name": "stdout",
          "text": [
            "Caught an exception: Division by zero is not allowed.\n"
          ]
        }
      ]
    },
    {
      "cell_type": "markdown",
      "source": [
        "# **File Handling**"
      ],
      "metadata": {
        "id": "1SFQz5Po75ob"
      }
    },
    {
      "cell_type": "markdown",
      "source": [
        "open"
      ],
      "metadata": {
        "id": "4vW1oYZp9hLz"
      }
    },
    {
      "cell_type": "code",
      "source": [
        "# file = open('FileName',mode)"
      ],
      "metadata": {
        "id": "SSzpYS6y77Hg"
      },
      "execution_count": null,
      "outputs": []
    },
    {
      "cell_type": "markdown",
      "source": [
        "r- file exist ho ni chayai hai\n",
        "\n",
        "w- it will create new file"
      ],
      "metadata": {
        "id": "Y7i_XBfD_Lrr"
      }
    },
    {
      "cell_type": "markdown",
      "source": [
        "\n",
        "\n",
        "*   'r': Read (default mode). Opens the file for reading.\n",
        "\n",
        "*   'w': Write. Opens the file for writing (and truncates the file if it already exists).\n",
        "\n",
        "*   'a': Append. Opens the file for writing, appending new content to the end.\n",
        "\n",
        "*   'r+': Read and write.\n",
        "\n",
        "\n",
        "\n",
        "\n"
      ],
      "metadata": {
        "id": "mYjKpVMCumRh"
      }
    },
    {
      "cell_type": "code",
      "source": [
        "file = open('python1.txt','r')\n"
      ],
      "metadata": {
        "id": "ctc466f8_mEL"
      },
      "execution_count": null,
      "outputs": []
    },
    {
      "cell_type": "markdown",
      "source": [
        "# **Reading from a File**"
      ],
      "metadata": {
        "id": "yjLdg3ayusr5"
      }
    },
    {
      "cell_type": "markdown",
      "source": [
        "*   read()\n",
        "*   readline()\n",
        "*   readlines()\n"
      ],
      "metadata": {
        "id": "wFTYIBrkuqxY"
      }
    },
    {
      "cell_type": "code",
      "source": [
        "file = open('python1.txt','w')\n",
        "# content = file.read()\n",
        "# print(content)"
      ],
      "metadata": {
        "id": "cpoVVzVf-T1L"
      },
      "execution_count": null,
      "outputs": []
    },
    {
      "cell_type": "code",
      "source": [
        "# To read file from desktop\n",
        "# C:/Users/saylani/Desktop/python.txt\n",
        "# C:\\\\Users\\\\saylani\\\\Desktop\\\\python.txt\n",
        "file = open('C:/Users/saylani/Desktop/python.txt','r')\n",
        "content = file.read()\n",
        "print(content)"
      ],
      "metadata": {
        "id": "yxIM9mMAAk0M"
      },
      "execution_count": null,
      "outputs": []
    },
    {
      "cell_type": "code",
      "source": [
        "file = open('C:/Users/saylani/Desktop/python.txt','r')\n",
        "content = file.read()\n",
        "print(content)"
      ],
      "metadata": {
        "id": "FOZiZA3FDd1l"
      },
      "execution_count": null,
      "outputs": []
    },
    {
      "cell_type": "code",
      "source": [
        "file = open('python.txt','r')\n",
        "content = file.read()\n",
        "print(content)"
      ],
      "metadata": {
        "colab": {
          "base_uri": "https://localhost:8080/"
        },
        "id": "kB4CEap7-wkQ",
        "outputId": "b680d1d2-df23-440d-eef6-1eabad89f845"
      },
      "execution_count": null,
      "outputs": [
        {
          "output_type": "stream",
          "name": "stdout",
          "text": [
            "Hello World \n",
            "Ni hao\n",
            "Bonjour\n",
            "\n"
          ]
        }
      ]
    },
    {
      "cell_type": "markdown",
      "source": [
        "Readline\n"
      ],
      "metadata": {
        "id": "P5gtREa7AuvP"
      }
    },
    {
      "cell_type": "code",
      "source": [
        "file = open('python.txt','r')\n",
        "content = file.readline()\n",
        "print(content)\n",
        "while content:\n",
        "    print(content.strip())\n",
        "    content = file.readline()\n",
        "file.close()\n"
      ],
      "metadata": {
        "colab": {
          "base_uri": "https://localhost:8080/"
        },
        "id": "MJRipppUACcB",
        "outputId": "afd40c65-e7f3-499e-a561-d4ebafe1cde5"
      },
      "execution_count": null,
      "outputs": [
        {
          "output_type": "stream",
          "name": "stdout",
          "text": [
            "Hello World \n",
            "\n",
            "Hello World\n",
            "Ni hao\n",
            "Bonjour\n"
          ]
        }
      ]
    },
    {
      "cell_type": "code",
      "source": [
        "content = file.readline()\n",
        "print(content)"
      ],
      "metadata": {
        "id": "nmgdnH64EOYj"
      },
      "execution_count": null,
      "outputs": []
    },
    {
      "cell_type": "markdown",
      "source": [
        "Readlines"
      ],
      "metadata": {
        "id": "yMhJf-lHEIPM"
      }
    },
    {
      "cell_type": "code",
      "source": [
        "file = open('python.txt','r')\n",
        "content = file.readlines()\n",
        "print(content)\n",
        "for line in content:\n",
        "  print(line)"
      ],
      "metadata": {
        "colab": {
          "base_uri": "https://localhost:8080/"
        },
        "id": "kZtVlpPOA8qx",
        "outputId": "dda31da5-ec4c-44c9-ca60-9761ac9ad3e8"
      },
      "execution_count": null,
      "outputs": [
        {
          "output_type": "stream",
          "name": "stdout",
          "text": [
            "['Hello World \\n', 'Ni hao\\n', 'Bonjour\\n']\n",
            "Hello World \n",
            "\n",
            "Ni hao\n",
            "\n",
            "Bonjour\n",
            "\n"
          ]
        }
      ]
    },
    {
      "cell_type": "markdown",
      "source": [
        "# **Writing to a File**\n"
      ],
      "metadata": {
        "id": "rYb678p7Gv47"
      }
    },
    {
      "cell_type": "code",
      "source": [
        "file = open('python_class.txt','w')\n",
        "content = 'Saylani Mass IT Training'\n",
        "file.write(content)\n",
        "file.close()\n"
      ],
      "metadata": {
        "id": "Hkd0nbSdA--B"
      },
      "execution_count": null,
      "outputs": []
    },
    {
      "cell_type": "code",
      "source": [
        "file = open('python_class.txt','a')\n",
        "content = '\\n Saylani Mass IT Training'\n",
        "file.write(content)\n",
        "file.close()\n"
      ],
      "metadata": {
        "id": "NmPJU4OIHNnR"
      },
      "execution_count": null,
      "outputs": []
    },
    {
      "cell_type": "code",
      "source": [
        "new_content = ['Hello World \\n', 'Ni hao\\n', 'Bonjour\\n']\n",
        "file = open('python_class.txt','w')\n",
        "file.writelines(new_content)\n",
        "file.close()\n"
      ],
      "metadata": {
        "id": "TBBYr4ucHjSj"
      },
      "execution_count": null,
      "outputs": []
    },
    {
      "cell_type": "code",
      "source": [
        "import csv\n",
        "\n",
        "with open('output.csv', 'w', newline='') as file:\n",
        "    writer = csv.writer(file)\n",
        "    writer.writerow([\"Name\", \"Age\", \"Occupation\"])\n",
        "    writer.writerow([\"Ayan\", 30, \"Data Engineer\"])\n",
        "    writer.writerow([\"Usama\", 25, \"Data Scientist\"])\n"
      ],
      "metadata": {
        "id": "-fWR-2OAO4je"
      },
      "execution_count": null,
      "outputs": []
    },
    {
      "cell_type": "markdown",
      "source": [
        "# **Error Handling in File Operations**\n",
        "\n",
        "\n"
      ],
      "metadata": {
        "id": "Q9vB4emJu11o"
      }
    },
    {
      "cell_type": "code",
      "source": [
        "try:\n",
        "    with open('non_existent_file.txt', 'r') as file:\n",
        "        content = file.read()\n",
        "except FileNotFoundError:\n",
        "    print(\"Error: The file was not found.\")\n",
        "except IOError:\n",
        "    print(\"Error: An I/O error occurred.\")\n"
      ],
      "metadata": {
        "id": "8jxH5-fFJlLC",
        "colab": {
          "base_uri": "https://localhost:8080/"
        },
        "outputId": "670d9e0e-28af-4987-e8f9-c02f0aaafcff"
      },
      "execution_count": 2,
      "outputs": [
        {
          "output_type": "stream",
          "name": "stdout",
          "text": [
            "Error: The file was not found.\n"
          ]
        }
      ]
    },
    {
      "cell_type": "markdown",
      "source": [
        "\n",
        "Scenario 1: Handling File Not Found\n",
        "Description: You want to read from a file, but the file might not exist.\n",
        "\n"
      ],
      "metadata": {
        "id": "PuUaBI9Cu7-g"
      }
    },
    {
      "cell_type": "code",
      "source": [
        "try:\n",
        "  file=open(\"abc.txt\",\"r\")\n",
        "  content=file.read()\n",
        "  print(content)\n",
        "except FileNotFoundError as e:\n",
        "  print(e)"
      ],
      "metadata": {
        "id": "0J1_ec15PeOy"
      },
      "execution_count": null,
      "outputs": []
    },
    {
      "cell_type": "markdown",
      "source": [
        "Scenario 2: Handling Incorrect File Mode\n",
        "Description: You open a file in read mode but attempt to write to it.\n",
        "\n"
      ],
      "metadata": {
        "id": "rgFmhlGDvBrP"
      }
    },
    {
      "cell_type": "code",
      "source": [
        "try:\n",
        "  file = open(\"myfile.txt\",mode='w')\n",
        "  file.read()\n",
        "except Exception as e :\n",
        "  print(e)"
      ],
      "metadata": {
        "id": "bdqNdUfevB_G"
      },
      "execution_count": null,
      "outputs": []
    }
  ]
}